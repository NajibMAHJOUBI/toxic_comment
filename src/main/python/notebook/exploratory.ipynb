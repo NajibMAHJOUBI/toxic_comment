{
 "cells": [
  {
   "cell_type": "markdown",
   "metadata": {},
   "source": [
    "## Import libraries"
   ]
  },
  {
   "cell_type": "code",
   "execution_count": 1,
   "metadata": {},
   "outputs": [],
   "source": [
    "import os\n",
    "import pandas as pd\n",
    "\n",
    "from pyspark.sql.types import StructType, StructField, StringType"
   ]
  },
  {
   "cell_type": "markdown",
   "metadata": {},
   "source": [
    "## Initialization"
   ]
  },
  {
   "cell_type": "code",
   "execution_count": 2,
   "metadata": {},
   "outputs": [],
   "source": [
    "# path = \"/home/mahjoubi/Documents/github/toxic_comment/data\"\n",
    "path = \"/home/ubuntu/Documents/toxic_comment/data\""
   ]
  },
  {
   "cell_type": "markdown",
   "metadata": {},
   "source": [
    "## Train "
   ]
  },
  {
   "cell_type": "code",
   "execution_count": 3,
   "metadata": {},
   "outputs": [],
   "source": [
    "pd_train = pd.read_csv(os.path.join(path, \"original/train.csv\"), sep=\",\")\n",
    "spark_train = sqlContext.createDataFrame(pd_train)"
   ]
  },
  {
   "cell_type": "code",
   "execution_count": 4,
   "metadata": {},
   "outputs": [],
   "source": [
    "spark_train.write.parquet(os.path.join(path, \"parquet/train\"))"
   ]
  },
  {
   "cell_type": "code",
   "execution_count": 5,
   "metadata": {},
   "outputs": [
    {
     "data": {
      "text/plain": [
       "159571"
      ]
     },
     "execution_count": 5,
     "metadata": {},
     "output_type": "execute_result"
    }
   ],
   "source": [
    "spark_train.count()"
   ]
  },
  {
   "cell_type": "code",
   "execution_count": 6,
   "metadata": {},
   "outputs": [
    {
     "name": "stdout",
     "output_type": "stream",
     "text": [
      "root\n",
      " |-- id: string (nullable = true)\n",
      " |-- comment_text: string (nullable = true)\n",
      " |-- toxic: long (nullable = true)\n",
      " |-- severe_toxic: long (nullable = true)\n",
      " |-- obscene: long (nullable = true)\n",
      " |-- threat: long (nullable = true)\n",
      " |-- insult: long (nullable = true)\n",
      " |-- identity_hate: long (nullable = true)\n",
      "\n"
     ]
    }
   ],
   "source": [
    "spark_train.printSchema()"
   ]
  },
  {
   "cell_type": "code",
   "execution_count": 7,
   "metadata": {},
   "outputs": [
    {
     "data": {
      "text/plain": [
       "Row(id=u'0000997932d777bf', comment_text=u\"Explanation\\nWhy the edits made under my username Hardcore Metallica Fan were reverted? They weren't vandalisms, just closure on some GAs after I voted at New York Dolls FAC. And please don't remove the template from the talk page since I'm retired now.89.205.38.27\")"
      ]
     },
     "execution_count": 7,
     "metadata": {},
     "output_type": "execute_result"
    }
   ],
   "source": [
    "spark_train.select(\"id\", \"comment_text\").first()"
   ]
  },
  {
   "cell_type": "code",
   "execution_count": 8,
   "metadata": {},
   "outputs": [
    {
     "name": "stdout",
     "output_type": "stream",
     "text": [
      "+-----+------------+-------+------+------+-------------+\n",
      "|toxic|severe_toxic|obscene|threat|insult|identity_hate|\n",
      "+-----+------------+-------+------+------+-------------+\n",
      "|    0|           0|      0|     0|     0|            0|\n",
      "|    0|           0|      0|     0|     0|            0|\n",
      "|    0|           0|      0|     0|     0|            0|\n",
      "|    0|           0|      0|     0|     0|            0|\n",
      "|    0|           0|      0|     0|     0|            0|\n",
      "+-----+------------+-------+------+------+-------------+\n",
      "only showing top 5 rows\n",
      "\n"
     ]
    }
   ],
   "source": [
    "spark_train.drop(\"id\", \"comment_text\").show(5)"
   ]
  },
  {
   "cell_type": "markdown",
   "metadata": {},
   "source": [
    "## Test"
   ]
  },
  {
   "cell_type": "code",
   "execution_count": 9,
   "metadata": {},
   "outputs": [],
   "source": [
    "pd_test = pd.read_csv(os.path.join(path, \"original/test.csv\"), sep=\",\")\n",
    "spark_test = sqlContext.createDataFrame(pd_test)"
   ]
  },
  {
   "cell_type": "code",
   "execution_count": 10,
   "metadata": {},
   "outputs": [
    {
     "data": {
      "text/plain": [
       "153164"
      ]
     },
     "execution_count": 10,
     "metadata": {},
     "output_type": "execute_result"
    }
   ],
   "source": [
    "spark_test.count()"
   ]
  },
  {
   "cell_type": "code",
   "execution_count": 11,
   "metadata": {},
   "outputs": [
    {
     "name": "stdout",
     "output_type": "stream",
     "text": [
      "root\n",
      " |-- id: string (nullable = true)\n",
      " |-- comment_text: string (nullable = true)\n",
      "\n"
     ]
    }
   ],
   "source": [
    "spark_test.printSchema()"
   ]
  },
  {
   "cell_type": "code",
   "execution_count": 12,
   "metadata": {},
   "outputs": [
    {
     "data": {
      "text/plain": [
       "Row(id=u'00001cee341fdb12', comment_text=u\"Yo bitch Ja Rule is more succesful then you'll ever be whats up with you and hating you sad mofuckas...i should bitch slap ur pethedic white faces and get you to kiss my ass you guys sicken me. Ja rule is about pride in da music man. dont diss that shit on him. and nothin is wrong bein like tupac he was a brother too...fuckin white boys get things right next time.,\")"
      ]
     },
     "execution_count": 12,
     "metadata": {},
     "output_type": "execute_result"
    }
   ],
   "source": [
    "spark_test.select(\"id\", \"comment_text\").first()"
   ]
  },
  {
   "cell_type": "code",
   "execution_count": 13,
   "metadata": {},
   "outputs": [
    {
     "name": "stdout",
     "output_type": "stream",
     "text": [
      "++\n",
      "||\n",
      "++\n",
      "||\n",
      "||\n",
      "||\n",
      "||\n",
      "||\n",
      "++\n",
      "only showing top 5 rows\n",
      "\n"
     ]
    }
   ],
   "source": [
    "spark_test.drop(\"id\", \"comment_text\").show(5)"
   ]
  },
  {
   "cell_type": "markdown",
   "metadata": {},
   "source": [
    "## Test Labels"
   ]
  },
  {
   "cell_type": "code",
   "execution_count": 14,
   "metadata": {},
   "outputs": [],
   "source": [
    "pd_test_labels = pd.read_csv(os.path.join(path, \"original/test_labels.csv\"), sep=\",\")\n",
    "spark_test_labels = sqlContext.createDataFrame(pd_test_labels)"
   ]
  },
  {
   "cell_type": "code",
   "execution_count": 15,
   "metadata": {},
   "outputs": [
    {
     "data": {
      "text/plain": [
       "153164"
      ]
     },
     "execution_count": 15,
     "metadata": {},
     "output_type": "execute_result"
    }
   ],
   "source": [
    "spark_test_labels.count()"
   ]
  },
  {
   "cell_type": "code",
   "execution_count": 16,
   "metadata": {},
   "outputs": [
    {
     "name": "stdout",
     "output_type": "stream",
     "text": [
      "root\n",
      " |-- id: string (nullable = true)\n",
      " |-- toxic: long (nullable = true)\n",
      " |-- severe_toxic: long (nullable = true)\n",
      " |-- obscene: long (nullable = true)\n",
      " |-- threat: long (nullable = true)\n",
      " |-- insult: long (nullable = true)\n",
      " |-- identity_hate: long (nullable = true)\n",
      "\n"
     ]
    }
   ],
   "source": [
    "spark_test_labels.printSchema()"
   ]
  },
  {
   "cell_type": "code",
   "execution_count": 17,
   "metadata": {},
   "outputs": [
    {
     "name": "stdout",
     "output_type": "stream",
     "text": [
      "+----------------+-----+------------+-------+------+------+-------------+\n",
      "|              id|toxic|severe_toxic|obscene|threat|insult|identity_hate|\n",
      "+----------------+-----+------------+-------+------+------+-------------+\n",
      "|00001cee341fdb12|   -1|          -1|     -1|    -1|    -1|           -1|\n",
      "|0000247867823ef7|   -1|          -1|     -1|    -1|    -1|           -1|\n",
      "|00013b17ad220c46|   -1|          -1|     -1|    -1|    -1|           -1|\n",
      "|00017563c3f7919a|   -1|          -1|     -1|    -1|    -1|           -1|\n",
      "|00017695ad8997eb|   -1|          -1|     -1|    -1|    -1|           -1|\n",
      "+----------------+-----+------------+-------+------+------+-------------+\n",
      "only showing top 5 rows\n",
      "\n"
     ]
    }
   ],
   "source": [
    "spark_test_labels.show(5)"
   ]
  },
  {
   "cell_type": "markdown",
   "metadata": {},
   "source": [
    "## Sampple Submission"
   ]
  },
  {
   "cell_type": "code",
   "execution_count": 18,
   "metadata": {},
   "outputs": [],
   "source": [
    "pd_sample_submission = pd.read_csv(os.path.join(path, \"original/sample_submission.csv\"), sep=\",\")\n",
    "spark_sample_submission = sqlContext.createDataFrame(pd_sample_submission)"
   ]
  },
  {
   "cell_type": "code",
   "execution_count": 19,
   "metadata": {},
   "outputs": [
    {
     "data": {
      "text/plain": [
       "153164"
      ]
     },
     "execution_count": 19,
     "metadata": {},
     "output_type": "execute_result"
    }
   ],
   "source": [
    "spark_sample_submission.count()"
   ]
  },
  {
   "cell_type": "code",
   "execution_count": 20,
   "metadata": {},
   "outputs": [
    {
     "name": "stdout",
     "output_type": "stream",
     "text": [
      "root\n",
      " |-- id: string (nullable = true)\n",
      " |-- toxic: double (nullable = true)\n",
      " |-- severe_toxic: double (nullable = true)\n",
      " |-- obscene: double (nullable = true)\n",
      " |-- threat: double (nullable = true)\n",
      " |-- insult: double (nullable = true)\n",
      " |-- identity_hate: double (nullable = true)\n",
      "\n"
     ]
    }
   ],
   "source": [
    "spark_sample_submission.printSchema()"
   ]
  },
  {
   "cell_type": "code",
   "execution_count": 21,
   "metadata": {},
   "outputs": [
    {
     "name": "stdout",
     "output_type": "stream",
     "text": [
      "+----------------+-----+------------+-------+------+------+-------------+\n",
      "|              id|toxic|severe_toxic|obscene|threat|insult|identity_hate|\n",
      "+----------------+-----+------------+-------+------+------+-------------+\n",
      "|00001cee341fdb12|  0.5|         0.5|    0.5|   0.5|   0.5|          0.5|\n",
      "|0000247867823ef7|  0.5|         0.5|    0.5|   0.5|   0.5|          0.5|\n",
      "|00013b17ad220c46|  0.5|         0.5|    0.5|   0.5|   0.5|          0.5|\n",
      "|00017563c3f7919a|  0.5|         0.5|    0.5|   0.5|   0.5|          0.5|\n",
      "|00017695ad8997eb|  0.5|         0.5|    0.5|   0.5|   0.5|          0.5|\n",
      "|0001ea8717f6de06|  0.5|         0.5|    0.5|   0.5|   0.5|          0.5|\n",
      "|00024115d4cbde0f|  0.5|         0.5|    0.5|   0.5|   0.5|          0.5|\n",
      "|000247e83dcc1211|  0.5|         0.5|    0.5|   0.5|   0.5|          0.5|\n",
      "|00025358d4737918|  0.5|         0.5|    0.5|   0.5|   0.5|          0.5|\n",
      "|00026d1092fe71cc|  0.5|         0.5|    0.5|   0.5|   0.5|          0.5|\n",
      "|0002eadc3b301559|  0.5|         0.5|    0.5|   0.5|   0.5|          0.5|\n",
      "|0002f87b16116a7f|  0.5|         0.5|    0.5|   0.5|   0.5|          0.5|\n",
      "|0003806b11932181|  0.5|         0.5|    0.5|   0.5|   0.5|          0.5|\n",
      "|0003e1cccfd5a40a|  0.5|         0.5|    0.5|   0.5|   0.5|          0.5|\n",
      "|00059ace3e3e9a53|  0.5|         0.5|    0.5|   0.5|   0.5|          0.5|\n",
      "|000634272d0d44eb|  0.5|         0.5|    0.5|   0.5|   0.5|          0.5|\n",
      "|000663aff0fffc80|  0.5|         0.5|    0.5|   0.5|   0.5|          0.5|\n",
      "|000689dd34e20979|  0.5|         0.5|    0.5|   0.5|   0.5|          0.5|\n",
      "|000834769115370c|  0.5|         0.5|    0.5|   0.5|   0.5|          0.5|\n",
      "|000844b52dee5f3f|  0.5|         0.5|    0.5|   0.5|   0.5|          0.5|\n",
      "+----------------+-----+------------+-------+------+------+-------------+\n",
      "only showing top 20 rows\n",
      "\n"
     ]
    }
   ],
   "source": [
    "spark_sample_submission.show()"
   ]
  },
  {
   "cell_type": "code",
   "execution_count": null,
   "metadata": {},
   "outputs": [],
   "source": []
  }
 ],
 "metadata": {
  "kernelspec": {
   "display_name": "Python 2",
   "language": "python",
   "name": "python2"
  },
  "language_info": {
   "codemirror_mode": {
    "name": "ipython",
    "version": 2
   },
   "file_extension": ".py",
   "mimetype": "text/x-python",
   "name": "python",
   "nbconvert_exporter": "python",
   "pygments_lexer": "ipython2",
   "version": "2.7.14"
  }
 },
 "nbformat": 4,
 "nbformat_minor": 1
}
