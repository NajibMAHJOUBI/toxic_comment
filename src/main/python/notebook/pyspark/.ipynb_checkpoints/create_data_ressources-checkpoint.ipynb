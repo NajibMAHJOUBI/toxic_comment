{
 "cells": [
  {
   "cell_type": "markdown",
   "metadata": {},
   "source": [
    "## Train dataset"
   ]
  },
  {
   "cell_type": "code",
   "execution_count": 1,
   "metadata": {},
   "outputs": [],
   "source": [
    "from pyspark.sql.types import StructType, StructField, StringType, LongType"
   ]
  },
  {
   "cell_type": "code",
   "execution_count": 2,
   "metadata": {},
   "outputs": [],
   "source": [
    "train = spark.read.parquet(\"../../../../../data/parquet/train\")\n",
    "\n",
    "fewRow = train.take(6)\n",
    "data = spark.sparkContext.parallelize(fewRow)"
   ]
  },
  {
   "cell_type": "code",
   "execution_count": 3,
   "metadata": {},
   "outputs": [
    {
     "name": "stdout",
     "output_type": "stream",
     "text": [
      "+----------------+--------------------+-----+------------+-------+------+------+-------------+\n",
      "|              id|        comment_text|toxic|severe_toxic|obscene|threat|insult|identity_hate|\n",
      "+----------------+--------------------+-----+------------+-------+------+------+-------------+\n",
      "|9f14426bcd93c0f8|\"\n",
      "\n",
      " Edit warring ...|    0|           0|      0|     0|     0|            0|\n",
      "|9f15fa8011f1283e|I cite a scholarl...|    0|           0|      0|     0|     0|            0|\n",
      "|9f1624d262a42d8c|\"\n",
      "\n",
      "At the time I ...|    0|           0|      0|     0|     0|            0|\n",
      "|9f163747e5cac904|(UTC)\n",
      "The 2008 ra...|    0|           0|      0|     0|     0|            0|\n",
      "|9f1638a5017abf77|Faryl Smith\n",
      "Hi th...|    0|           0|      0|     0|     0|            0|\n",
      "|9f1651ae5c97daa2|Why? \n",
      "\n",
      "Why is thi...|    1|           0|      0|     0|     1|            0|\n",
      "+----------------+--------------------+-----+------------+-------+------+------+-------------+\n",
      "\n"
     ]
    }
   ],
   "source": [
    "dataSet = spark.createDataFrame(data)\n",
    "\n",
    "dataSet.show()\n",
    "\n",
    "dataSet.coalesce(1).write.parquet(\"../../../../../src/test/resources/data/train\")"
   ]
  },
  {
   "cell_type": "markdown",
   "metadata": {},
   "source": [
    "## Test dataset"
   ]
  },
  {
   "cell_type": "code",
   "execution_count": 5,
   "metadata": {
    "scrolled": true
   },
   "outputs": [
    {
     "name": "stdout",
     "output_type": "stream",
     "text": [
      "+----------------+--------------------+-----+------------+-------+------+------+-------------+\n",
      "|              id|        comment_text|toxic|severe_toxic|obscene|threat|insult|identity_hate|\n",
      "+----------------+--------------------+-----+------------+-------+------+------+-------------+\n",
      "|9f14426bcd93c0f8|\"\n",
      "\n",
      " Edit warring ...|    0|           0|      0|     0|     0|            0|\n",
      "|9f15fa8011f1283e|I cite a scholarl...|    0|           0|      0|     0|     0|            0|\n",
      "|9f1624d262a42d8c|\"\n",
      "\n",
      "At the time I ...|    0|           0|      0|     0|     0|            0|\n",
      "|9f163747e5cac904|(UTC)\n",
      "The 2008 ra...|    0|           0|      0|     0|     0|            0|\n",
      "|9f1638a5017abf77|Faryl Smith\n",
      "Hi th...|    0|           0|      0|     0|     0|            0|\n",
      "|9f1651ae5c97daa2|Why? \n",
      "\n",
      "Why is thi...|    1|           0|      0|     0|     1|            0|\n",
      "+----------------+--------------------+-----+------------+-------+------+------+-------------+\n",
      "\n"
     ]
    }
   ],
   "source": [
    "test = spark.read.parquet(\"../../../../../data/parquet/test\")\n",
    "\n",
    "fewtRow = test.take(6)\n",
    "data = spark.sparkContext.parallelize(fewRow)\n",
    "data.collect()\n",
    "\n",
    "dataSet = spark.createDataFrame(data)\n",
    "\n",
    "dataSet.show()\n",
    "\n",
    "dataSet.coalesce(1).write.parquet(\"../../../../../src/test/resources/data/test\")"
   ]
  },
  {
   "cell_type": "code",
   "execution_count": null,
   "metadata": {},
   "outputs": [],
   "source": []
  }
 ],
 "metadata": {
  "kernelspec": {
   "display_name": "Python 2",
   "language": "python",
   "name": "python2"
  },
  "language_info": {
   "codemirror_mode": {
    "name": "ipython",
    "version": 2
   },
   "file_extension": ".py",
   "mimetype": "text/x-python",
   "name": "python",
   "nbconvert_exporter": "python",
   "pygments_lexer": "ipython2",
   "version": "2.7.14"
  }
 },
 "nbformat": 4,
 "nbformat_minor": 1
}
